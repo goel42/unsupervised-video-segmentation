{
 "cells": [
  {
   "cell_type": "code",
   "execution_count": 1,
   "metadata": {},
   "outputs": [
    {
     "name": "stdout",
     "output_type": "stream",
     "text": [
      "Dataset Loaded Successfully\n",
      "Uniform initialisation of subactivity labels complete\n",
      "Started optimising W\n",
      "Starting Optimisation\n",
      "iter 1/10 (0.0% done): raw_cost: 17948446.681779 \t reg_cost: 0.000000 \t total_cost: 17948446.681779\n",
      "\n",
      "iter 2/10 (10.0% done): raw_cost: 17946298.325956 \t reg_cost: 0.000000 \t total_cost: 17946298.325956\n",
      "\n",
      "iter 3/10 (20.0% done): raw_cost: 17944051.697430 \t reg_cost: 0.000000 \t total_cost: 17944051.697430\n",
      "\n",
      "iter 4/10 (30.0% done): raw_cost: 17942959.979215 \t reg_cost: 0.000000 \t total_cost: 17942959.979215\n",
      "\n",
      "iter 5/10 (40.0% done): raw_cost: 17944726.379082 \t reg_cost: 0.000000 \t total_cost: 17944726.379082\n",
      "\n",
      "iter 6/10 (50.0% done): raw_cost: 17942232.463406 \t reg_cost: 0.000000 \t total_cost: 17942232.463406\n",
      "\n",
      "iter 7/10 (60.0% done): raw_cost: 17943028.390031 \t reg_cost: 0.000000 \t total_cost: 17943028.390031\n",
      "\n",
      "iter 8/10 (70.0% done): raw_cost: 17945835.747965 \t reg_cost: 0.000000 \t total_cost: 17945835.747965\n",
      "\n",
      "iter 9/10 (80.0% done): raw_cost: 17947581.114380 \t reg_cost: 0.000000 \t total_cost: 17947581.114380\n",
      "\n",
      "iter 10/10 (90.0% done): raw_cost: 17948800.569490 \t reg_cost: 0.000000 \t total_cost: 17948800.569490\n",
      "\n",
      "validation performance:\n",
      "\n",
      "image search     : r@1: %.1f,\t r@5: %.1f,\t r@10: %.1f,\t rAVG: %.1f,\t rMED: %d\n",
      " nan nan nan nan nan\n",
      "image annotation : r@1: %.1f,\t r@5: %.1f,\t r@10: %.1f,\t rAVG: %.1f,\t rMED: %d\n",
      " nan nan nan nan nan\n",
      "-----\n",
      "\n",
      "training performance:\n",
      "\n",
      "image search     : r@1: %.1f,\t r@5: %.1f,\t r@10: %.1f,\t rAVG: %.1f,\t rMED: %d\n",
      " nan nan nan nan nan\n",
      "image annotation : r@1: %.1f,\t r@5: %.1f,\t r@10: %.1f,\t rAVG: %.1f,\t rMED: %d\n",
      " nan nan nan nan nan\n",
      "-----\n",
      "\n"
     ]
    },
    {
     "name": "stderr",
     "output_type": "stream",
     "text": [
      "C:\\Users\\dcsang\\AppData\\Local\\Continuum\\anaconda3\\envs\\myenv\\lib\\site-packages\\numpy\\core\\fromnumeric.py:3257: RuntimeWarning: Mean of empty slice.\n",
      "  out=out, **kwargs)\n",
      "C:\\Users\\dcsang\\AppData\\Local\\Continuum\\anaconda3\\envs\\myenv\\lib\\site-packages\\numpy\\core\\_methods.py:161: RuntimeWarning: invalid value encountered in double_scalars\n",
      "  ret = ret.dtype.type(ret / rcount)\n"
     ]
    }
   ],
   "source": [
    "from utils.config_parse import params\n",
    "from load_dataset import load_dataset\n",
    "from initialize_subactivity_assignments import initialize_subactivity_assignments\n",
    "from embedding.init_embedding_weights import init_embedding_weights\n",
    "from embedding.optimise_embedding_weights import optimise_embedding_weights\n",
    "from embedding.feature_extraction import extract_features\n",
    "#from gauss_mix.compute_gauss_mix import compute_gauss_mix\n",
    "from utils.load_word_vectors import get_label_word2vec\n",
    "\n",
    "#from embedding.optimise_embedding_weights import optimise_embedding_weights\n",
    "\n",
    "#subacts_count == g_K\n",
    "#vids_frames_gt_label == gt_labels\n",
    "#latent space transformation Weight: W {Wf, Wa}\n",
    "\n",
    "# LOAD DATA\n",
    "activity = \"coffee\"\n",
    "path = r\"C:/Users/dcsang/Documents/code_translate/DATA/breakfast_actions/formatted_data_new/\"\n",
    "vids_frames_features, vids_frames_gtlabel, vids_frames_count, subacts_count = load_dataset(activity, path)\n",
    "\n",
    "#RANDOM INITIALISATION OF ACTIVITY LABELS\n",
    "__rho_prior = params[\"gmm\"][\"infOut\"][\"rho_prior\"]\n",
    "samples = initialize_subactivity_assignments(vids_frames_count, subacts_count, __rho_prior)\n",
    "\n",
    "###GET VECS/FEATURES FOR LABELS (aka TextFeat in original code)\n",
    "#TODO do we need number_canonical and number_shuffle? \n",
    "#made changes in this structure. in orig code this code is present within fs_prep_embedding_data\n",
    "labels_features= get_label_word2vec(path, subacts_count)\n",
    "\n",
    "###EMBEDDING PART\n",
    "path2embeddingdata_folder = r\"C:/Users/dcsang/Documents/code_translate/BREAKFAST_EXP/breakfast_iter/intermediate/INTERMEDIATE_DATA/FINAL_breakfast_iter/coffee/experiment_k_6/v_0_s_50_e_1_nGauss_3word2vec/rand_iter_1/iterative_1\"\n",
    "W = init_embedding_weights() #this is  initParams of original code\n",
    "W = optimise_embedding_weights(path2embeddingdata_folder, vids_frames_features, \n",
    "                               vids_frames_count, subacts_count, samples[0][\"z\"],W, labels_features)\n",
    "#TODO: samples has 0-padding for vids with frames less than max_frames_count,\n",
    "#and iteration_seglabels is basically creating a DS with variable row sizes and removing this padding\n",
    "#i am going ahead with samples, will change later if necessary\n",
    "\n",
    "###FEATURE EXTRACTION\n",
    "X_probs = extract_features(labels_features, vids_frames_features, W)"
   ]
  },
  {
   "cell_type": "code",
   "execution_count": 2,
   "metadata": {},
   "outputs": [
    {
     "ename": "AttributeError",
     "evalue": "'list' object has no attribute 'shape'",
     "output_type": "error",
     "traceback": [
      "\u001b[1;31m---------------------------------------------------------------------------\u001b[0m",
      "\u001b[1;31mAttributeError\u001b[0m                            Traceback (most recent call last)",
      "\u001b[1;32m<ipython-input-2-c982a9b36709>\u001b[0m in \u001b[0;36m<module>\u001b[1;34m\u001b[0m\n\u001b[1;32m----> 1\u001b[1;33m \u001b[0mX_probs\u001b[0m\u001b[1;33m.\u001b[0m\u001b[0mshape\u001b[0m\u001b[1;33m\u001b[0m\u001b[1;33m\u001b[0m\u001b[0m\n\u001b[0m",
      "\u001b[1;31mAttributeError\u001b[0m: 'list' object has no attribute 'shape'"
     ]
    }
   ],
   "source": [
    "X_probs.shape"
   ]
  },
  {
   "cell_type": "code",
   "execution_count": 3,
   "metadata": {},
   "outputs": [
    {
     "data": {
      "text/plain": [
       "167"
      ]
     },
     "execution_count": 3,
     "metadata": {},
     "output_type": "execute_result"
    }
   ],
   "source": [
    "vids_frames_label,vids_frames_count, X_probs"
   ]
  },
  {
   "cell_type": "code",
   "execution_count": 5,
   "metadata": {},
   "outputs": [],
   "source": [
    "vids_frames_label = samples[0][\"z\"]"
   ]
  },
  {
   "cell_type": "code",
   "execution_count": 10,
   "metadata": {},
   "outputs": [],
   "source": [
    "num_clusters = 3\n",
    "vids_count = len(vids_frames_count)\n",
    "frames_count = sum(vids_frames_count)"
   ]
  },
  {
   "cell_type": "code",
   "execution_count": 15,
   "metadata": {},
   "outputs": [],
   "source": [
    "frames_label_concat = np.zeros(frames_count)"
   ]
  },
  {
   "cell_type": "code",
   "execution_count": 20,
   "metadata": {},
   "outputs": [],
   "source": [
    "idx =0\n",
    "for vi in range(vids_count):\n",
    "    fc = vids_frames_count[vi]\n",
    "    temp = vids_frames_label[vi, :fc]\n",
    "    frames_label_concat[idx:idx+fc] = temp\n",
    "    idx+=fc"
   ]
  },
  {
   "cell_type": "code",
   "execution_count": null,
   "metadata": {},
   "outputs": [],
   "source": [
    "X_probs_concat = np.zeros([frames_count,])"
   ]
  },
  {
   "cell_type": "code",
   "execution_count": 14,
   "metadata": {},
   "outputs": [],
   "source": [
    "import numpy as np"
   ]
  },
  {
   "cell_type": "code",
   "execution_count": 16,
   "metadata": {},
   "outputs": [
    {
     "data": {
      "text/plain": [
       "(167, 1204)"
      ]
     },
     "execution_count": 16,
     "metadata": {},
     "output_type": "execute_result"
    }
   ],
   "source": [
    "vids_frames_label.shape"
   ]
  },
  {
   "cell_type": "code",
   "execution_count": 21,
   "metadata": {},
   "outputs": [
    {
     "data": {
      "text/plain": [
       "97290"
      ]
     },
     "execution_count": 21,
     "metadata": {},
     "output_type": "execute_result"
    }
   ],
   "source": [
    "idx"
   ]
  },
  {
   "cell_type": "code",
   "execution_count": 23,
   "metadata": {},
   "outputs": [
    {
     "data": {
      "text/plain": [
       "array([1., 1., 1., ..., 6., 6., 6.])"
      ]
     },
     "execution_count": 23,
     "metadata": {},
     "output_type": "execute_result"
    }
   ],
   "source": [
    "frames_label_concat"
   ]
  },
  {
   "cell_type": "code",
   "execution_count": 31,
   "metadata": {},
   "outputs": [],
   "source": [
    "blah = []\n",
    "for vi in range(vids_count):\n",
    "    fc = vids_frames_count[vi]\n",
    "    temp = vids_frames_label[vi, :fc]\n",
    "    blah.extend(temp)"
   ]
  },
  {
   "cell_type": "code",
   "execution_count": 32,
   "metadata": {},
   "outputs": [
    {
     "data": {
      "text/plain": [
       "97290"
      ]
     },
     "execution_count": 32,
     "metadata": {},
     "output_type": "execute_result"
    }
   ],
   "source": [
    "len(blah)"
   ]
  },
  {
   "cell_type": "code",
   "execution_count": 33,
   "metadata": {},
   "outputs": [
    {
     "data": {
      "text/plain": [
       "array([1, 2, 3, 4, 5, 6], dtype=uint32)"
      ]
     },
     "execution_count": 33,
     "metadata": {},
     "output_type": "execute_result"
    }
   ],
   "source": [
    "np.unique(blah)"
   ]
  },
  {
   "cell_type": "code",
   "execution_count": 34,
   "metadata": {},
   "outputs": [],
   "source": [
    "def concat_probs(X_probs, vids_count):\n",
    "    output =[]\n",
    "    for vi in range(vids_count):\n",
    "        output.extend(X_probs[vi])\n",
    "    return output"
   ]
  },
  {
   "cell_type": "code",
   "execution_count": 42,
   "metadata": {},
   "outputs": [],
   "source": [
    "X_probs_concat = concat_probs(X_probs, vids_count)"
   ]
  },
  {
   "cell_type": "code",
   "execution_count": 40,
   "metadata": {},
   "outputs": [],
   "source": [
    "X_probs_concat = np.array(X_probs_concat)"
   ]
  },
  {
   "cell_type": "code",
   "execution_count": 43,
   "metadata": {},
   "outputs": [
    {
     "data": {
      "text/plain": [
       "1002"
      ]
     },
     "execution_count": 43,
     "metadata": {},
     "output_type": "execute_result"
    }
   ],
   "source": [
    "len(X_probs_concat)"
   ]
  },
  {
   "cell_type": "code",
   "execution_count": 63,
   "metadata": {},
   "outputs": [
    {
     "data": {
      "text/plain": [
       "6"
      ]
     },
     "execution_count": 63,
     "metadata": {},
     "output_type": "execute_result"
    }
   ],
   "source": [
    "len(X_probs[0].tolist())"
   ]
  },
  {
   "cell_type": "code",
   "execution_count": 58,
   "metadata": {},
   "outputs": [],
   "source": [
    "blah = X_probs[0].tolist()"
   ]
  },
  {
   "cell_type": "code",
   "execution_count": 59,
   "metadata": {},
   "outputs": [
    {
     "data": {
      "text/plain": [
       "6"
      ]
     },
     "execution_count": 59,
     "metadata": {},
     "output_type": "execute_result"
    }
   ],
   "source": [
    "len(blah)"
   ]
  },
  {
   "cell_type": "code",
   "execution_count": 52,
   "metadata": {},
   "outputs": [],
   "source": [
    "blah.extend(X_probs[1])"
   ]
  },
  {
   "cell_type": "code",
   "execution_count": 56,
   "metadata": {},
   "outputs": [
    {
     "data": {
      "text/plain": [
       "6"
      ]
     },
     "execution_count": 56,
     "metadata": {},
     "output_type": "execute_result"
    }
   ],
   "source": [
    "len(blah)"
   ]
  },
  {
   "cell_type": "code",
   "execution_count": 67,
   "metadata": {},
   "outputs": [],
   "source": [
    "bobo = np.zeros([subacts_count, frames_count])\n",
    "idx = 0\n",
    "for vi in range(vids_count):\n",
    "    fc = vids_frames_count[vi]\n",
    "    bobo[: ,idx:idx+fc] = X_probs[vi]\n",
    "    idx += fc"
   ]
  },
  {
   "cell_type": "code",
   "execution_count": 68,
   "metadata": {},
   "outputs": [
    {
     "data": {
      "text/plain": [
       "(6, 97290)"
      ]
     },
     "execution_count": 68,
     "metadata": {},
     "output_type": "execute_result"
    }
   ],
   "source": [
    "bobo.shape"
   ]
  },
  {
   "cell_type": "code",
   "execution_count": null,
   "metadata": {},
   "outputs": [],
   "source": []
  }
 ],
 "metadata": {
  "kernelspec": {
   "display_name": "Python 3",
   "language": "python",
   "name": "python3"
  },
  "language_info": {
   "codemirror_mode": {
    "name": "ipython",
    "version": 3
   },
   "file_extension": ".py",
   "mimetype": "text/x-python",
   "name": "python",
   "nbconvert_exporter": "python",
   "pygments_lexer": "ipython3",
   "version": "3.7.5"
  }
 },
 "nbformat": 4,
 "nbformat_minor": 2
}
