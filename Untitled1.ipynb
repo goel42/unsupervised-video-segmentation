{
 "cells": [
  {
   "cell_type": "code",
   "execution_count": 3,
   "metadata": {},
   "outputs": [],
   "source": [
    "import numpy as np\n",
    "\n",
    "def vToPi(v):\n",
    "    \n",
    "    #to account for 0-based indexing in python, just subracted wherever container is accessed\n",
    "    sub=1\n",
    "    \n",
    "    pi_len = len(v)+1\n",
    "    pi = np.zeros(pi_len)\n",
    "    pi[0] = pi_len\n",
    "    \n",
    "    for i in range(pi_len-2,0-sub,-1):\n",
    "        for j in range(pi_len-i-1,v[i+1-sub]+1-sub, -1):\n",
    "            pi[j+1 -sub] = pi[j-sub]\n",
    "        pi[v[i+1-sub] +1 -sub] = i+1\n",
    "    return pi"
   ]
  },
  {
   "cell_type": "code",
   "execution_count": 4,
   "metadata": {},
   "outputs": [
    {
     "data": {
      "text/plain": [
       "array([1., 2., 3., 4., 5.])"
      ]
     },
     "execution_count": 4,
     "metadata": {},
     "output_type": "execute_result"
    }
   ],
   "source": [
    "vToPi([0,0,0,0])"
   ]
  },
  {
   "cell_type": "code",
   "execution_count": null,
   "metadata": {},
   "outputs": [],
   "source": []
  }
 ],
 "metadata": {
  "kernelspec": {
   "display_name": "Python 3",
   "language": "python",
   "name": "python3"
  },
  "language_info": {
   "codemirror_mode": {
    "name": "ipython",
    "version": 3
   },
   "file_extension": ".py",
   "mimetype": "text/x-python",
   "name": "python",
   "nbconvert_exporter": "python",
   "pygments_lexer": "ipython3",
   "version": "3.7.5"
  }
 },
 "nbformat": 4,
 "nbformat_minor": 4
}
