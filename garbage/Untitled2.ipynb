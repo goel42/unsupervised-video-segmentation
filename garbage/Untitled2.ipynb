{
 "cells": [
  {
   "cell_type": "code",
   "execution_count": 1,
   "metadata": {},
   "outputs": [],
   "source": [
    "from utils.config_parse import params\n",
    "from load_dataset import load_dataset\n",
    "from initialize_subactivity_assignments import initialize_subactivity_assignments\n",
    "from embedding.init_embedding_weights import init_embedding_weights\n",
    "\n",
    "#TODO change g_K to subacts_count\n",
    "#TODO change gt_labels to vids_frames_gt_label"
   ]
  },
  {
   "cell_type": "code",
   "execution_count": 2,
   "metadata": {},
   "outputs": [
    {
     "name": "stdout",
     "output_type": "stream",
     "text": [
      "Dataset Loaded Successfully\n"
     ]
    }
   ],
   "source": [
    "# LOAD DATA\n",
    "activity = \"coffee\"\n",
    "path = r\"/mnt/c/Users/dcsang/Documents/code_translate/DATA/breakfast_actions/formatted_data_new/\"\n",
    "vids_frames_features, gt_labels, vids_frames_count, g_K = load_dataset(activity, path)"
   ]
  },
  {
   "cell_type": "code",
   "execution_count": 3,
   "metadata": {},
   "outputs": [
    {
     "name": "stdout",
     "output_type": "stream",
     "text": [
      "Uniform initialisation of subactivity labels complete\n"
     ]
    }
   ],
   "source": [
    "#RANDOM INITIALISATION OF ACTIVITY LABELS\n",
    "__rho_prior = params[\"gmm\"][\"infOut\"][\"rho_prior\"]\n",
    "samples = initialize_subactivity_assignments(vids_frames_count, g_K, __rho_prior)"
   ]
  },
  {
   "cell_type": "code",
   "execution_count": 13,
   "metadata": {},
   "outputs": [],
   "source": [
    "#EMBEDDING PART\n",
    "#latent space transformation Weight: W {Wf, Wa}\n",
    "W = init_embedding_weights() #this is  initParams of original code"
   ]
  },
  {
   "cell_type": "code",
   "execution_count": 14,
   "metadata": {},
   "outputs": [],
   "source": [
    "path2embeddingdata_folder = \"/mnt/c/Users/dcsang/Documents/code_translate/BREAKFAST_EXP/breakfast_iter/intermediate/INTERMEDIATE_DATA/FINAL_breakfast_iter/coffee/experiment_k_6/v_0_s_50_e_1_nGauss_3word2vec/rand_iter_1/iterative_1\""
   ]
  },
  {
   "cell_type": "code",
   "execution_count": 340,
   "metadata": {},
   "outputs": [],
   "source": [
    "def get_path(dir_path, fold_type, data_type):\n",
    "    return os.path.join(dir_path, \"split_\"+fold_type+\"_\"+data_type+\".mat\")\n",
    "    \n",
    "def get_dataset_fold(fold_type, path2data_dir):\n",
    "    \"\"\"fold_type: val, train or test\"\"\"\n",
    "    \n",
    "    meta_path = get_path(path2data_dir, fold_type, \"meta\")\n",
    "    labels_path = get_path(path2data_dir, fold_type, \"sent\")\n",
    "    frames_path = get_path(path2data_dir, fold_type, \"img\")\n",
    "    \n",
    "    metadata = hdf5storage.loadmat(meta_path)\n",
    "    labeldata = hdf5storage.loadmat(labels_path)\n",
    "    framesdata = hdf5storage.loadmat(frames_path)\n",
    "    \n",
    "    frames =[]\n",
    "    labels_appended = []\n",
    "    if framesdata[\"Img\"]:\n",
    "        #for the time being; \n",
    "        frames = np.array([framesdata[\"Img\"][i][0][0][0][0][0] for i in range(framesdata[\"Img\"].shape[0])])\n",
    "        labels = np.array([labeldata[\"Text\"][0][i][0][0][2].T[0] for i in range(labeldata[\"Text\"].shape[1])])\n",
    "\n",
    "        #making word_2_vec dimension =201\n",
    "        concat = [1]\n",
    "        labels_appended = np.zeros( (labels.shape[0], labels.shape[1]+1))\n",
    "        for i in range(labels.shape[0]):\n",
    "            labels_appended[i] = np.concatenate((labels[i],concat))\n",
    "    else:\n",
    "        print(\"no frames\")\n",
    "    \n",
    "    data = {\n",
    "        \"meta\": metadata[\"meta\"],\n",
    "        \"itos\": metadata[\"itos\"],\n",
    "        \"stoi\": metadata[\"stoi\"],\n",
    "        \"TextFeat\": labeldata[\"TextFeat\"],\n",
    "        \"frames_orig\": labeldata[\"Text\"],\n",
    "        \"labels_vecs\": labels_appended,\n",
    "        \"frames_orig\": framesdata[\"Img\"],\n",
    "        \"frames\": frames\n",
    "    }\n",
    "\n",
    "    return data"
   ]
  },
  {
   "cell_type": "code",
   "execution_count": 312,
   "metadata": {},
   "outputs": [],
   "source": [
    "final_data = get_dataset_fold(\"train\",path2embeddingdata_folder)"
   ]
  },
  {
   "cell_type": "code",
   "execution_count": 317,
   "metadata": {},
   "outputs": [
    {
     "data": {
      "text/plain": [
       "(97290, 65)"
      ]
     },
     "execution_count": 317,
     "metadata": {},
     "output_type": "execute_result"
    }
   ],
   "source": [
    "fr = final_data[\"frames\"]\n",
    "fr.shape"
   ]
  },
  {
   "cell_type": "code",
   "execution_count": 318,
   "metadata": {},
   "outputs": [
    {
     "data": {
      "text/plain": [
       "(97290, 201)"
      ]
     },
     "execution_count": 318,
     "metadata": {},
     "output_type": "execute_result"
    }
   ],
   "source": [
    "lb = final_data[\"labels_vecs\"]\n",
    "lb.shape"
   ]
  },
  {
   "cell_type": "code",
   "execution_count": 320,
   "metadata": {},
   "outputs": [
    {
     "data": {
      "text/plain": [
       "(3, 65)"
      ]
     },
     "execution_count": 320,
     "metadata": {},
     "output_type": "execute_result"
    }
   ],
   "source": [
    "fr[[1,2,3]].shape"
   ]
  },
  {
   "cell_type": "code",
   "execution_count": 341,
   "metadata": {},
   "outputs": [
    {
     "name": "stdout",
     "output_type": "stream",
     "text": [
      "no frames\n"
     ]
    },
    {
     "name": "stderr",
     "output_type": "stream",
     "text": [
      "/home/magic/anaconda3/envs/basepy/lib/python3.7/site-packages/ipykernel_launcher.py:17: DeprecationWarning: The truth value of an empty array is ambiguous. Returning False, but in future this will result in an error. Use `array.size > 0` to check that an array is not empty.\n"
     ]
    }
   ],
   "source": [
    "vald_split = get_dataset_fold(\"val\",path2embeddingdata_folder)"
   ]
  },
  {
   "cell_type": "code",
   "execution_count": 303,
   "metadata": {},
   "outputs": [],
   "source": [
    "blah = get_dataset_fold(\"train\",path2embeddingdata_folder)"
   ]
  },
  {
   "cell_type": "code",
   "execution_count": 304,
   "metadata": {},
   "outputs": [
    {
     "data": {
      "text/plain": [
       "(97290, 201)"
      ]
     },
     "execution_count": 304,
     "metadata": {},
     "output_type": "execute_result"
    }
   ],
   "source": [
    "blah[\"frames_labels_vecs\"].shape"
   ]
  },
  {
   "cell_type": "code",
   "execution_count": 305,
   "metadata": {},
   "outputs": [
    {
     "data": {
      "text/plain": [
       "(97290, 65)"
      ]
     },
     "execution_count": 305,
     "metadata": {},
     "output_type": "execute_result"
    }
   ],
   "source": [
    "blah[\"frames_features\"].shape"
   ]
  },
  {
   "cell_type": "code",
   "execution_count": 221,
   "metadata": {},
   "outputs": [
    {
     "data": {
      "text/plain": [
       "(65,)"
      ]
     },
     "execution_count": 221,
     "metadata": {},
     "output_type": "execute_result"
    }
   ],
   "source": [
    "blah[\"frames_features\"][molasses][0][0][0][0][0].shape"
   ]
  },
  {
   "cell_type": "code",
   "execution_count": 223,
   "metadata": {},
   "outputs": [
    {
     "data": {
      "text/plain": [
       "97290"
      ]
     },
     "execution_count": 223,
     "metadata": {},
     "output_type": "execute_result"
    }
   ],
   "source": [
    "blah[\"frames_features\"].shape[0]"
   ]
  },
  {
   "cell_type": "code",
   "execution_count": 220,
   "metadata": {},
   "outputs": [
    {
     "data": {
      "text/plain": [
       "array([0, 0, 0, 0, 0, 0, 0, 0, 0, 0, 0, 0, 0, 0, 0, 0, 0, 0, 0, 0, 0, 0,\n",
       "       0, 0, 0, 0, 0, 0, 0, 0, 0, 0, 0, 0, 0, 0, 0, 0, 0, 0, 0, 0, 0, 0,\n",
       "       0, 0, 0, 0, 0, 0, 0, 0, 0, 0, 0, 0, 0, 0, 0, 0, 0, 0, 0, 0, 0])"
      ]
     },
     "execution_count": 220,
     "metadata": {},
     "output_type": "execute_result"
    }
   ],
   "source": [
    "sum(kray)"
   ]
  },
  {
   "cell_type": "code",
   "execution_count": 248,
   "metadata": {},
   "outputs": [
    {
     "data": {
      "text/plain": [
       "(1, 97290)"
      ]
     },
     "execution_count": 248,
     "metadata": {},
     "output_type": "execute_result"
    }
   ],
   "source": [
    "blah[\"frames_labels_vecs\"].shape"
   ]
  },
  {
   "cell_type": "code",
   "execution_count": 246,
   "metadata": {},
   "outputs": [
    {
     "data": {
      "text/plain": [
       "array([-7.2661e-01,  5.1823e-01, -6.8915e-01,  5.5925e-02, -1.1469e-01,\n",
       "       -2.2319e-01,  2.8726e-01, -9.1454e-01, -3.4430e-01, -3.8494e-01,\n",
       "        1.2099e-03,  1.2144e-01,  3.4518e-03, -1.7904e-01,  1.3507e-01,\n",
       "        6.1024e-01, -2.4517e-01, -3.2920e-01,  3.1233e-02, -1.8997e-01,\n",
       "       -1.8209e-01,  2.5278e+00, -1.8125e-01, -6.5355e-01,  8.9571e-06,\n",
       "        3.2567e-01, -6.5631e-01,  2.3791e-01, -2.4090e-02,  5.5062e-01,\n",
       "        2.6643e-01,  7.1802e-01, -5.4634e-01, -4.9836e-02,  2.8067e-01,\n",
       "        1.9732e-01, -5.5365e-01, -7.1540e-01, -1.5462e-01, -2.2584e-01,\n",
       "       -2.0502e-01, -2.4696e-01, -7.3783e-02, -3.1141e-01, -4.4872e-03,\n",
       "        3.0554e-01,  1.9641e-01, -3.7167e-01,  1.6426e-01, -6.2955e-02,\n",
       "        1.7643e-01, -3.6837e-01, -9.4052e-02,  1.1746e+00,  3.5042e-02,\n",
       "       -3.0207e-01, -5.2314e-01,  4.1786e-01,  4.8502e-01, -1.4195e-02,\n",
       "        6.7623e-02,  6.7164e-01,  1.3639e-02, -6.4965e-01, -7.2984e-02,\n",
       "       -2.2502e-01,  3.1353e-01,  2.1406e-01,  3.6236e-01, -4.2042e-01,\n",
       "        4.0384e-01, -1.5480e-01, -2.7046e-01,  2.9109e-02,  3.7312e-01,\n",
       "        2.4094e-01, -3.3052e-01,  3.5078e-01, -2.4585e-01,  4.7387e-01,\n",
       "       -4.4944e-01,  4.0442e-01, -2.0610e-01,  3.8756e-01, -3.3607e-01,\n",
       "        3.3588e-02,  1.2896e-01, -4.9005e-01,  9.0100e-02,  7.6329e-01,\n",
       "       -5.5386e-01,  3.3519e-01,  2.0480e-01,  1.0249e-01,  7.0559e-01,\n",
       "       -3.8527e-01, -2.1648e-01, -3.2304e-02,  1.9769e-01, -2.1395e-01,\n",
       "        8.8417e-02,  1.5274e-02,  3.8137e-01, -1.7559e-01, -3.1961e-01,\n",
       "       -2.3528e-01,  3.6428e-01,  9.1567e-01,  1.2479e-01,  2.3444e-01,\n",
       "       -4.2709e-01,  2.5476e-01, -5.2837e-02,  4.0555e-01, -2.4127e-01,\n",
       "       -5.5854e-01,  5.3942e-02,  3.9989e-01,  3.0495e-01,  6.3892e-03,\n",
       "       -6.2417e-02,  2.2516e-01,  6.0302e-02,  3.4157e-01,  5.0248e-01,\n",
       "       -1.0022e+00,  6.0333e-02, -3.7954e-01,  2.6000e-01, -4.5924e-01,\n",
       "       -3.5703e-03, -7.7979e-01, -2.5718e-01, -6.0455e-01,  5.3021e-01,\n",
       "       -6.6885e-02,  1.1130e-01, -8.0097e-01, -6.1522e-01,  2.5342e-01,\n",
       "       -1.6540e-01, -1.3929e-02, -5.6074e-02, -1.6731e-02,  7.6893e-01,\n",
       "        2.6391e-01, -1.5583e-01, -1.8659e-01, -5.4188e-01, -1.7538e-01,\n",
       "        5.7506e-01,  8.4193e-01, -2.3653e-01, -3.6523e-02,  1.0580e-01,\n",
       "       -1.0861e-01,  2.8131e-01,  1.0403e-01,  6.1484e-01, -9.3190e-01,\n",
       "        2.8301e-01, -1.7782e-02, -4.8073e-01, -1.3701e-01,  4.0706e-01,\n",
       "        6.4443e-01, -2.7695e-01,  7.1538e-01,  1.9301e-01,  4.2426e-01,\n",
       "        5.9091e-01, -6.7330e-01,  5.0571e-01, -6.1554e-02, -1.8645e-01,\n",
       "        2.3270e-01,  4.1310e-01, -2.7774e-02,  1.2486e-01, -1.0565e-01,\n",
       "        1.5963e+00, -4.0050e-01, -6.8158e-02,  3.0325e-01, -1.9811e-01,\n",
       "       -5.4390e-01,  3.2875e-02,  1.1779e-03, -1.5089e-01,  8.6465e-02,\n",
       "       -5.1677e-01,  2.2068e-01, -3.8674e-01, -3.4513e-01,  1.7371e-03,\n",
       "        3.4277e-01, -1.0439e-01, -1.6459e-01, -5.5298e-02, -2.5146e-01])"
      ]
     },
     "execution_count": 246,
     "metadata": {},
     "output_type": "execute_result"
    }
   ],
   "source": [
    "blah[\"frames_labels_vecs\"][0][97289][0][0][2].T[0]"
   ]
  },
  {
   "cell_type": "code",
   "execution_count": 263,
   "metadata": {},
   "outputs": [],
   "source": [
    "l = 50\n",
    "bs = 6\n",
    "a = np.arange(l)"
   ]
  },
  {
   "cell_type": "code",
   "execution_count": 159,
   "metadata": {},
   "outputs": [
    {
     "data": {
      "text/plain": [
       "54"
      ]
     },
     "execution_count": 159,
     "metadata": {},
     "output_type": "execute_result"
    }
   ],
   "source": [
    "r = l%bs\n",
    "extras = bs-r\n",
    "l+extras"
   ]
  },
  {
   "cell_type": "code",
   "execution_count": 156,
   "metadata": {},
   "outputs": [],
   "source": [
    "aa= np.resize(a,l+extras)"
   ]
  },
  {
   "cell_type": "code",
   "execution_count": 160,
   "metadata": {},
   "outputs": [],
   "source": [
    "aaa = np.split(aa,(l+extras)/bs)"
   ]
  },
  {
   "cell_type": "code",
   "execution_count": 165,
   "metadata": {},
   "outputs": [],
   "source": [
    "Ni = 50\n",
    "__batch_size = 6"
   ]
  },
  {
   "cell_type": "code",
   "execution_count": 168,
   "metadata": {},
   "outputs": [
    {
     "data": {
      "text/plain": [
       "array([18, 39, 45, 40, 30, 12, 41, 35, 27, 19, 36, 48,  1,  3, 13, 29, 21,\n",
       "       11, 46, 34, 37,  7, 16, 47, 14, 33, 32,  8, 23, 24,  5, 43,  2, 49,\n",
       "       15, 22,  9, 28,  0, 38,  4, 44, 10, 42, 26, 31, 20, 17,  6, 25])"
      ]
     },
     "execution_count": 168,
     "metadata": {},
     "output_type": "execute_result"
    }
   ],
   "source": [
    "batch_indices = np.random.permutation(Ni)\n",
    "batch_indices"
   ]
  },
  {
   "cell_type": "code",
   "execution_count": 169,
   "metadata": {},
   "outputs": [],
   "source": [
    "if Ni%__batch_size :\n",
    "    padding_frames_count = __batch_size - (Ni%__batch_size)\n",
    "    new_size = Ni + padding_frames_count\n",
    "    batch_indices = np.resize(batch_indices, new_size)\n",
    "batch_indices = batch_indices.reshape(-1, __batch_size)"
   ]
  },
  {
   "cell_type": "code",
   "execution_count": 170,
   "metadata": {},
   "outputs": [
    {
     "data": {
      "text/plain": [
       "array([[18, 39, 45, 40, 30, 12],\n",
       "       [41, 35, 27, 19, 36, 48],\n",
       "       [ 1,  3, 13, 29, 21, 11],\n",
       "       [46, 34, 37,  7, 16, 47],\n",
       "       [14, 33, 32,  8, 23, 24],\n",
       "       [ 5, 43,  2, 49, 15, 22],\n",
       "       [ 9, 28,  0, 38,  4, 44],\n",
       "       [10, 42, 26, 31, 20, 17],\n",
       "       [ 6, 25, 18, 39, 45, 40]])"
      ]
     },
     "execution_count": 170,
     "metadata": {},
     "output_type": "execute_result"
    }
   ],
   "source": [
    "batch_indices"
   ]
  },
  {
   "cell_type": "code",
   "execution_count": null,
   "metadata": {},
   "outputs": [],
   "source": []
  }
 ],
 "metadata": {
  "kernelspec": {
   "display_name": "Python 3",
   "language": "python",
   "name": "python3"
  },
  "language_info": {
   "codemirror_mode": {
    "name": "ipython",
    "version": 3
   },
   "file_extension": ".py",
   "mimetype": "text/x-python",
   "name": "python",
   "nbconvert_exporter": "python",
   "pygments_lexer": "ipython3",
   "version": "3.7.5"
  }
 },
 "nbformat": 4,
 "nbformat_minor": 4
}
