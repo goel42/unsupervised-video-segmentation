{
 "cells": [
  {
   "cell_type": "code",
   "execution_count": 9,
   "metadata": {},
   "outputs": [],
   "source": [
    "from utils.config_parse import params as params\n",
    "from load_dataset import load_dataset\n",
    "from initialize_subactivity_assignments import initialize_subactivity_assignments\n",
    "from embedding.init_embedding_weights import init_embedding_weights\n",
    "import numpy as np"
   ]
  },
  {
   "cell_type": "code",
   "execution_count": 2,
   "metadata": {},
   "outputs": [],
   "source": [
    "path2embeddingdata_folder = \"/mnt/c/Users/dcsang/Documents/code_translate/BREAKFAST_EXP/breakfast_iter/intermediate/INTERMEDIATE_DATA/FINAL_breakfast_iter/coffee/experiment_k_6/v_0_s_50_e_1_nGauss_3word2vec/rand_iter_1/iterative_1\""
   ]
  },
  {
   "cell_type": "code",
   "execution_count": 3,
   "metadata": {},
   "outputs": [],
   "source": [
    "W = init_embedding_weights() "
   ]
  },
  {
   "cell_type": "code",
   "execution_count": 4,
   "metadata": {},
   "outputs": [],
   "source": [
    "from utils.get_dataset_fold import get_dataset_fold"
   ]
  },
  {
   "cell_type": "code",
   "execution_count": 5,
   "metadata": {},
   "outputs": [],
   "source": [
    "    Wa = W[\"Wa\"]\n",
    "    Wf = W[\"Wf\"]"
   ]
  },
  {
   "cell_type": "code",
   "execution_count": 17,
   "metadata": {},
   "outputs": [
    {
     "data": {
      "text/plain": [
       "(50, 201)"
      ]
     },
     "execution_count": 17,
     "metadata": {},
     "output_type": "execute_result"
    }
   ],
   "source": [
    "Wa.shape"
   ]
  },
  {
   "cell_type": "code",
   "execution_count": 6,
   "metadata": {},
   "outputs": [],
   "source": [
    "    __batch_size = params[\"embedding\"][\"train\"][\"batch_size\"]\n",
    "    __max_epochs = params[\"embedding\"][\"train\"][\"max_epochs\"]"
   ]
  },
  {
   "cell_type": "code",
   "execution_count": 7,
   "metadata": {},
   "outputs": [
    {
     "name": "stdout",
     "output_type": "stream",
     "text": [
      "getting training fold...\n",
      "\n",
      "getting validation fold...\n",
      "\n"
     ]
    }
   ],
   "source": [
    "    print(\"getting training fold...\\n\")\n",
    "    train_split = get_dataset_fold('train', path2embeddingdata_folder)\n",
    "    print(\"getting validation fold...\\n\")\n",
    "    vald_split = get_dataset_fold(\"val\", path2embeddingdata_folder)"
   ]
  },
  {
   "cell_type": "code",
   "execution_count": null,
   "metadata": {},
   "outputs": [],
   "source": [
    "if vald_split[\"frames\"]"
   ]
  },
  {
   "cell_type": "code",
   "execution_count": 14,
   "metadata": {},
   "outputs": [],
   "source": [
    "Ni = train_split[\"frames_features\"].shape[0]\n",
    "max_iters = np.ceil(Ni/__batch_size) * __max_epochs\n",
    "ppi = 1 #how often (in unit of epochs) to evaluate validation error and (maybe) save checkpoint\n",
    "pp = np.ceil(ppi*(Ni/__batch_size)) #convert ppi from units of epoochs to units of iterations"
   ]
  },
  {
   "cell_type": "code",
   "execution_count": 23,
   "metadata": {},
   "outputs": [],
   "source": [
    "Wa_Eg = np.zeros(Wa.shape)#TODO\n",
    "Wf_Eg = np.zeros(Wf.shape)\n",
    "raw_costs = np.zeros([np.int(max_iters), 1])\n",
    "reg_costs = np.zeros([np.int(max_iters), 1])"
   ]
  },
  {
   "cell_type": "code",
   "execution_count": 26,
   "metadata": {},
   "outputs": [
    {
     "data": {
      "text/plain": [
       "(325, 1)"
      ]
     },
     "execution_count": 26,
     "metadata": {},
     "output_type": "execute_result"
    }
   ],
   "source": [
    "__best_score = get_param('min_save_score', -1)"
   ]
  },
  {
   "cell_type": "code",
   "execution_count": 27,
   "metadata": {},
   "outputs": [],
   "source": [
    "    hist_iter = []\n",
    "    hist_e2v  = [] #validation score\n",
    "    hist_e3v  = []\n",
    "    hist_e2t  = [] #training score\n",
    "    hist_e3t  = []"
   ]
  },
  {
   "cell_type": "code",
   "execution_count": 28,
   "metadata": {},
   "outputs": [
    {
     "name": "stdout",
     "output_type": "stream",
     "text": [
      "Starting Optimisation\n"
     ]
    }
   ],
   "source": [
    "    W_best = {}\n",
    "    print(\"Starting Optimisation\")"
   ]
  },
  {
   "cell_type": "code",
   "execution_count": 48,
   "metadata": {},
   "outputs": [],
   "source": [
    "batch_indices = np.random.permutation(Ni)\n",
    "if Ni%__batch_size :\n",
    "    padding_frames_count = __batch_size - (Ni%__batch_size)\n",
    "    new_size = Ni + padding_frames_count\n",
    "    batch_indices = np.resize(batch_indices, new_size)\n",
    "batch_indices = batch_indices.reshape(-1, __batch_size)"
   ]
  },
  {
   "cell_type": "code",
   "execution_count": 52,
   "metadata": {},
   "outputs": [
    {
     "data": {
      "text/plain": [
       "(300,)"
      ]
     },
     "execution_count": 52,
     "metadata": {},
     "output_type": "execute_result"
    }
   ],
   "source": [
    "batch_indices[0].shape"
   ]
  },
  {
   "cell_type": "code",
   "execution_count": 54,
   "metadata": {},
   "outputs": [
    {
     "data": {
      "text/plain": [
       "array([1, 7, 5])"
      ]
     },
     "execution_count": 54,
     "metadata": {},
     "output_type": "execute_result"
    }
   ],
   "source": [
    "bro = np.array([1,2,4,5,6,7,8])\n",
    "idx = [0,5,3]\n",
    "bro[idx]"
   ]
  },
  {
   "cell_type": "code",
   "execution_count": 61,
   "metadata": {},
   "outputs": [
    {
     "data": {
      "text/plain": [
       "array([[1],\n",
       "       [3]])"
      ]
     },
     "execution_count": 61,
     "metadata": {},
     "output_type": "execute_result"
    }
   ],
   "source": [
    "v = np.arange(4).reshape(2,2)\n",
    "po = np.arange(2).reshape(2,1)\n",
    "np.dot(v,po)"
   ]
  },
  {
   "cell_type": "code",
   "execution_count": 60,
   "metadata": {},
   "outputs": [
    {
     "data": {
      "text/plain": [
       "array([[0],\n",
       "       [1]])"
      ]
     },
     "execution_count": 60,
     "metadata": {},
     "output_type": "execute_result"
    }
   ],
   "source": [
    "po"
   ]
  },
  {
   "cell_type": "code",
   "execution_count": null,
   "metadata": {},
   "outputs": [],
   "source": []
  }
 ],
 "metadata": {
  "kernelspec": {
   "display_name": "Python 3",
   "language": "python",
   "name": "python3"
  },
  "language_info": {
   "codemirror_mode": {
    "name": "ipython",
    "version": 3
   },
   "file_extension": ".py",
   "mimetype": "text/x-python",
   "name": "python",
   "nbconvert_exporter": "python",
   "pygments_lexer": "ipython3",
   "version": "3.7.5"
  }
 },
 "nbformat": 4,
 "nbformat_minor": 4
}
